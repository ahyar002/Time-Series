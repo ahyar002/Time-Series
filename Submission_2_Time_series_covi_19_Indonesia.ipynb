{
  "nbformat": 4,
  "nbformat_minor": 0,
  "metadata": {
    "colab": {
      "name": "Submission 2 - Time series covi-19 Indonesia",
      "provenance": []
    },
    "kernelspec": {
      "name": "python3",
      "display_name": "Python 3"
    },
    "language_info": {
      "name": "python"
    }
  },
  "cells": [
    {
      "cell_type": "markdown",
      "metadata": {
        "id": "KMm_njL6vEfx"
      },
      "source": [
        "Ahyar\n",
        "\n",
        "\n",
        " Bergabung sejak 03 Jun 2020\n",
        "\n",
        " Kota Bandung, Jawa Barat"
      ]
    },
    {
      "cell_type": "code",
      "metadata": {
        "id": "UlYkEgUdZarg"
      },
      "source": [
        "# import library\n",
        "import numpy as np\n",
        "import pandas as pd\n",
        "from keras.layers import Dense, LSTM\n",
        "import matplotlib.pyplot as plt\n",
        "import tensorflow as tf\n",
        "from sklearn.model_selection import train_test_split\n"
      ],
      "execution_count": 42,
      "outputs": []
    },
    {
      "cell_type": "code",
      "metadata": {
        "colab": {
          "base_uri": "https://localhost:8080/",
          "height": 355
        },
        "id": "D_209qmfiZBi",
        "outputId": "fb7965d0-b8f3-4d47-bc4b-06224594b7ef"
      },
      "source": [
        "df = pd.read_csv('/content/covid_19_indonesia_time_series_all.csv')\n",
        "df.head()"
      ],
      "execution_count": 43,
      "outputs": [
        {
          "output_type": "execute_result",
          "data": {
            "text/html": [
              "<div>\n",
              "<style scoped>\n",
              "    .dataframe tbody tr th:only-of-type {\n",
              "        vertical-align: middle;\n",
              "    }\n",
              "\n",
              "    .dataframe tbody tr th {\n",
              "        vertical-align: top;\n",
              "    }\n",
              "\n",
              "    .dataframe thead th {\n",
              "        text-align: right;\n",
              "    }\n",
              "</style>\n",
              "<table border=\"1\" class=\"dataframe\">\n",
              "  <thead>\n",
              "    <tr style=\"text-align: right;\">\n",
              "      <th></th>\n",
              "      <th>Date</th>\n",
              "      <th>Location ISO Code</th>\n",
              "      <th>Location</th>\n",
              "      <th>New Cases</th>\n",
              "      <th>New Deaths</th>\n",
              "      <th>New Recovered</th>\n",
              "      <th>New Active Cases</th>\n",
              "      <th>Total Cases</th>\n",
              "      <th>Total Deaths</th>\n",
              "      <th>Total Recovered</th>\n",
              "      <th>Total Active Cases</th>\n",
              "      <th>Location Level</th>\n",
              "      <th>City or Regency</th>\n",
              "      <th>Province</th>\n",
              "      <th>Country</th>\n",
              "      <th>Continent</th>\n",
              "      <th>Island</th>\n",
              "      <th>Time Zone</th>\n",
              "      <th>Special Status</th>\n",
              "      <th>Total Regencies</th>\n",
              "      <th>Total Cities</th>\n",
              "      <th>Total Districts</th>\n",
              "      <th>Total Urban Villages</th>\n",
              "      <th>Total Rural Villages</th>\n",
              "      <th>Area (km2)</th>\n",
              "      <th>Population</th>\n",
              "      <th>Population Density</th>\n",
              "      <th>Longitude</th>\n",
              "      <th>Latitude</th>\n",
              "      <th>New Cases per Million</th>\n",
              "      <th>Total Cases per Million</th>\n",
              "      <th>New Deaths per Million</th>\n",
              "      <th>Total Deaths per Million</th>\n",
              "      <th>Case Fatality Rate</th>\n",
              "      <th>Case Recovered Rate</th>\n",
              "      <th>Growth Factor of New Cases</th>\n",
              "      <th>Growth Factor of New Deaths</th>\n",
              "      <th>Name</th>\n",
              "      <th>Item</th>\n",
              "      <th>Kind</th>\n",
              "      <th>Hidden</th>\n",
              "    </tr>\n",
              "  </thead>\n",
              "  <tbody>\n",
              "    <tr>\n",
              "      <th>0</th>\n",
              "      <td>1/8/2020</td>\n",
              "      <td>ID-JI</td>\n",
              "      <td>Jawa Timur</td>\n",
              "      <td>9</td>\n",
              "      <td>3</td>\n",
              "      <td>1</td>\n",
              "      <td>5</td>\n",
              "      <td>9</td>\n",
              "      <td>5</td>\n",
              "      <td>10</td>\n",
              "      <td>-6</td>\n",
              "      <td>Province</td>\n",
              "      <td>NaN</td>\n",
              "      <td>Jawa Timur</td>\n",
              "      <td>Indonesia</td>\n",
              "      <td>Asia</td>\n",
              "      <td>Jawa</td>\n",
              "      <td>UTC+07:00</td>\n",
              "      <td>NaN</td>\n",
              "      <td>29</td>\n",
              "      <td>9.0</td>\n",
              "      <td>666</td>\n",
              "      <td>777.0</td>\n",
              "      <td>7724.0</td>\n",
              "      <td>47803</td>\n",
              "      <td>40479023</td>\n",
              "      <td>846.78</td>\n",
              "      <td>112.732941</td>\n",
              "      <td>-7.723346</td>\n",
              "      <td>0.22</td>\n",
              "      <td>0.22</td>\n",
              "      <td>0.07</td>\n",
              "      <td>0.12</td>\n",
              "      <td>55.56%</td>\n",
              "      <td>111.11%</td>\n",
              "      <td>NaN</td>\n",
              "      <td>NaN</td>\n",
              "      <td>NaN</td>\n",
              "      <td>NaN</td>\n",
              "      <td>NaN</td>\n",
              "      <td>NaN</td>\n",
              "    </tr>\n",
              "    <tr>\n",
              "      <th>1</th>\n",
              "      <td>1/9/2020</td>\n",
              "      <td>ID-JI</td>\n",
              "      <td>Jawa Timur</td>\n",
              "      <td>0</td>\n",
              "      <td>1</td>\n",
              "      <td>23</td>\n",
              "      <td>-24</td>\n",
              "      <td>9</td>\n",
              "      <td>6</td>\n",
              "      <td>33</td>\n",
              "      <td>-30</td>\n",
              "      <td>Province</td>\n",
              "      <td>NaN</td>\n",
              "      <td>Jawa Timur</td>\n",
              "      <td>Indonesia</td>\n",
              "      <td>Asia</td>\n",
              "      <td>Jawa</td>\n",
              "      <td>UTC+07:00</td>\n",
              "      <td>NaN</td>\n",
              "      <td>29</td>\n",
              "      <td>9.0</td>\n",
              "      <td>666</td>\n",
              "      <td>777.0</td>\n",
              "      <td>7724.0</td>\n",
              "      <td>47803</td>\n",
              "      <td>40479023</td>\n",
              "      <td>846.78</td>\n",
              "      <td>112.732941</td>\n",
              "      <td>-7.723346</td>\n",
              "      <td>0.00</td>\n",
              "      <td>0.22</td>\n",
              "      <td>0.02</td>\n",
              "      <td>0.15</td>\n",
              "      <td>66.67%</td>\n",
              "      <td>366.67%</td>\n",
              "      <td>0.0</td>\n",
              "      <td>0.33</td>\n",
              "      <td>NaN</td>\n",
              "      <td>NaN</td>\n",
              "      <td>NaN</td>\n",
              "      <td>NaN</td>\n",
              "    </tr>\n",
              "    <tr>\n",
              "      <th>2</th>\n",
              "      <td>1/10/2020</td>\n",
              "      <td>ID-JI</td>\n",
              "      <td>Jawa Timur</td>\n",
              "      <td>0</td>\n",
              "      <td>1</td>\n",
              "      <td>14</td>\n",
              "      <td>-15</td>\n",
              "      <td>9</td>\n",
              "      <td>7</td>\n",
              "      <td>47</td>\n",
              "      <td>-45</td>\n",
              "      <td>Province</td>\n",
              "      <td>NaN</td>\n",
              "      <td>Jawa Timur</td>\n",
              "      <td>Indonesia</td>\n",
              "      <td>Asia</td>\n",
              "      <td>Jawa</td>\n",
              "      <td>UTC+07:00</td>\n",
              "      <td>NaN</td>\n",
              "      <td>29</td>\n",
              "      <td>9.0</td>\n",
              "      <td>666</td>\n",
              "      <td>777.0</td>\n",
              "      <td>7724.0</td>\n",
              "      <td>47803</td>\n",
              "      <td>40479023</td>\n",
              "      <td>846.78</td>\n",
              "      <td>112.732941</td>\n",
              "      <td>-7.723346</td>\n",
              "      <td>0.00</td>\n",
              "      <td>0.22</td>\n",
              "      <td>0.02</td>\n",
              "      <td>0.17</td>\n",
              "      <td>77.78%</td>\n",
              "      <td>522.22%</td>\n",
              "      <td>1.0</td>\n",
              "      <td>1.00</td>\n",
              "      <td>NaN</td>\n",
              "      <td>NaN</td>\n",
              "      <td>NaN</td>\n",
              "      <td>NaN</td>\n",
              "    </tr>\n",
              "    <tr>\n",
              "      <th>3</th>\n",
              "      <td>1/11/2020</td>\n",
              "      <td>ID-JI</td>\n",
              "      <td>Jawa Timur</td>\n",
              "      <td>0</td>\n",
              "      <td>3</td>\n",
              "      <td>8</td>\n",
              "      <td>-11</td>\n",
              "      <td>9</td>\n",
              "      <td>10</td>\n",
              "      <td>55</td>\n",
              "      <td>-56</td>\n",
              "      <td>Province</td>\n",
              "      <td>NaN</td>\n",
              "      <td>Jawa Timur</td>\n",
              "      <td>Indonesia</td>\n",
              "      <td>Asia</td>\n",
              "      <td>Jawa</td>\n",
              "      <td>UTC+07:00</td>\n",
              "      <td>NaN</td>\n",
              "      <td>29</td>\n",
              "      <td>9.0</td>\n",
              "      <td>666</td>\n",
              "      <td>777.0</td>\n",
              "      <td>7724.0</td>\n",
              "      <td>47803</td>\n",
              "      <td>40479023</td>\n",
              "      <td>846.78</td>\n",
              "      <td>112.732941</td>\n",
              "      <td>-7.723346</td>\n",
              "      <td>0.00</td>\n",
              "      <td>0.22</td>\n",
              "      <td>0.07</td>\n",
              "      <td>0.25</td>\n",
              "      <td>111.11%</td>\n",
              "      <td>611.11%</td>\n",
              "      <td>1.0</td>\n",
              "      <td>3.00</td>\n",
              "      <td>NaN</td>\n",
              "      <td>NaN</td>\n",
              "      <td>NaN</td>\n",
              "      <td>NaN</td>\n",
              "    </tr>\n",
              "    <tr>\n",
              "      <th>4</th>\n",
              "      <td>1/12/2020</td>\n",
              "      <td>ID-JI</td>\n",
              "      <td>Jawa Timur</td>\n",
              "      <td>0</td>\n",
              "      <td>3</td>\n",
              "      <td>1</td>\n",
              "      <td>-4</td>\n",
              "      <td>9</td>\n",
              "      <td>13</td>\n",
              "      <td>56</td>\n",
              "      <td>-60</td>\n",
              "      <td>Province</td>\n",
              "      <td>NaN</td>\n",
              "      <td>Jawa Timur</td>\n",
              "      <td>Indonesia</td>\n",
              "      <td>Asia</td>\n",
              "      <td>Jawa</td>\n",
              "      <td>UTC+07:00</td>\n",
              "      <td>NaN</td>\n",
              "      <td>29</td>\n",
              "      <td>9.0</td>\n",
              "      <td>666</td>\n",
              "      <td>777.0</td>\n",
              "      <td>7724.0</td>\n",
              "      <td>47803</td>\n",
              "      <td>40479023</td>\n",
              "      <td>846.78</td>\n",
              "      <td>112.732941</td>\n",
              "      <td>-7.723346</td>\n",
              "      <td>0.00</td>\n",
              "      <td>0.22</td>\n",
              "      <td>0.07</td>\n",
              "      <td>0.32</td>\n",
              "      <td>144.44%</td>\n",
              "      <td>622.22%</td>\n",
              "      <td>1.0</td>\n",
              "      <td>1.00</td>\n",
              "      <td>NaN</td>\n",
              "      <td>NaN</td>\n",
              "      <td>NaN</td>\n",
              "      <td>NaN</td>\n",
              "    </tr>\n",
              "  </tbody>\n",
              "</table>\n",
              "</div>"
            ],
            "text/plain": [
              "        Date Location ISO Code    Location  New Cases  ...  Name  Item  Kind  Hidden\n",
              "0   1/8/2020             ID-JI  Jawa Timur          9  ...   NaN   NaN   NaN     NaN\n",
              "1   1/9/2020             ID-JI  Jawa Timur          0  ...   NaN   NaN   NaN     NaN\n",
              "2  1/10/2020             ID-JI  Jawa Timur          0  ...   NaN   NaN   NaN     NaN\n",
              "3  1/11/2020             ID-JI  Jawa Timur          0  ...   NaN   NaN   NaN     NaN\n",
              "4  1/12/2020             ID-JI  Jawa Timur          0  ...   NaN   NaN   NaN     NaN\n",
              "\n",
              "[5 rows x 41 columns]"
            ]
          },
          "metadata": {
            "tags": []
          },
          "execution_count": 43
        }
      ]
    },
    {
      "cell_type": "code",
      "metadata": {
        "colab": {
          "base_uri": "https://localhost:8080/"
        },
        "id": "G9QOhc5_jqgN",
        "outputId": "62b3d896-bc65-4b21-ad67-fba61608ca63"
      },
      "source": [
        "#  mengecek apakah ada nilai yang hilang dari dataset\n",
        "df.isnull().sum()"
      ],
      "execution_count": 44,
      "outputs": [
        {
          "output_type": "execute_result",
          "data": {
            "text/plain": [
              "Date                               0\n",
              "Location ISO Code                  0\n",
              "Location                           0\n",
              "New Cases                          0\n",
              "New Deaths                         0\n",
              "New Recovered                      0\n",
              "New Active Cases                   0\n",
              "Total Cases                        0\n",
              "Total Deaths                       0\n",
              "Total Recovered                    0\n",
              "Total Active Cases                 0\n",
              "Location Level                     0\n",
              "City or Regency                16283\n",
              "Province                         495\n",
              "Country                            0\n",
              "Continent                          0\n",
              "Island                           495\n",
              "Time Zone                        495\n",
              "Special Status                 13890\n",
              "Total Regencies                    0\n",
              "Total Cities                     469\n",
              "Total Districts                    0\n",
              "Total Urban Villages             471\n",
              "Total Rural Villages             496\n",
              "Area (km2)                         0\n",
              "Population                         0\n",
              "Population Density                 0\n",
              "Longitude                          0\n",
              "Latitude                           0\n",
              "New Cases per Million              0\n",
              "Total Cases per Million            0\n",
              "New Deaths per Million             0\n",
              "Total Deaths per Million           0\n",
              "Case Fatality Rate                 0\n",
              "Case Recovered Rate                0\n",
              "Growth Factor of New Cases       985\n",
              "Growth Factor of New Deaths     1939\n",
              "Name                           16283\n",
              "Item                           16283\n",
              "Kind                           16283\n",
              "Hidden                         16283\n",
              "dtype: int64"
            ]
          },
          "metadata": {
            "tags": []
          },
          "execution_count": 44
        }
      ]
    },
    {
      "cell_type": "code",
      "metadata": {
        "colab": {
          "base_uri": "https://localhost:8080/",
          "height": 318
        },
        "id": "CvN2U6ZVj-Wb",
        "outputId": "5a3a8f7e-3e4a-42c2-ea42-80d7058968b1"
      },
      "source": [
        "# drop item yang tidak perlu\n",
        "df.drop([\"Location ISO Code\", \"New Cases\", \"New Deaths\", \"New Recovered\", \"New Active Cases\", \"Province\", \"Country\", \"Continent\", \"Island\", \"Time Zone\", \n",
        "                \"Special Status\", \"Total Regencies\", \"Total Cities\", \"Total Districts\", \"Total Urban Villages\", \"Total Rural Villages\", \"Area (km2)\", \n",
        "                \"New Cases per Million\", \"Total Cases per Million\",\"New Deaths per Million\", \"Total Deaths per Million\", \"Case Fatality Rate\",\n",
        "                \"Case Recovered Rate\", \"Growth Factor of New Cases\",\"Growth Factor of New Deaths\", \"City or Regency\"],axis=1,inplace=True)\n",
        "df.head()"
      ],
      "execution_count": 45,
      "outputs": [
        {
          "output_type": "execute_result",
          "data": {
            "text/html": [
              "<div>\n",
              "<style scoped>\n",
              "    .dataframe tbody tr th:only-of-type {\n",
              "        vertical-align: middle;\n",
              "    }\n",
              "\n",
              "    .dataframe tbody tr th {\n",
              "        vertical-align: top;\n",
              "    }\n",
              "\n",
              "    .dataframe thead th {\n",
              "        text-align: right;\n",
              "    }\n",
              "</style>\n",
              "<table border=\"1\" class=\"dataframe\">\n",
              "  <thead>\n",
              "    <tr style=\"text-align: right;\">\n",
              "      <th></th>\n",
              "      <th>Date</th>\n",
              "      <th>Location</th>\n",
              "      <th>Total Cases</th>\n",
              "      <th>Total Deaths</th>\n",
              "      <th>Total Recovered</th>\n",
              "      <th>Total Active Cases</th>\n",
              "      <th>Location Level</th>\n",
              "      <th>Population</th>\n",
              "      <th>Population Density</th>\n",
              "      <th>Longitude</th>\n",
              "      <th>Latitude</th>\n",
              "      <th>Name</th>\n",
              "      <th>Item</th>\n",
              "      <th>Kind</th>\n",
              "      <th>Hidden</th>\n",
              "    </tr>\n",
              "  </thead>\n",
              "  <tbody>\n",
              "    <tr>\n",
              "      <th>0</th>\n",
              "      <td>1/8/2020</td>\n",
              "      <td>Jawa Timur</td>\n",
              "      <td>9</td>\n",
              "      <td>5</td>\n",
              "      <td>10</td>\n",
              "      <td>-6</td>\n",
              "      <td>Province</td>\n",
              "      <td>40479023</td>\n",
              "      <td>846.78</td>\n",
              "      <td>112.732941</td>\n",
              "      <td>-7.723346</td>\n",
              "      <td>NaN</td>\n",
              "      <td>NaN</td>\n",
              "      <td>NaN</td>\n",
              "      <td>NaN</td>\n",
              "    </tr>\n",
              "    <tr>\n",
              "      <th>1</th>\n",
              "      <td>1/9/2020</td>\n",
              "      <td>Jawa Timur</td>\n",
              "      <td>9</td>\n",
              "      <td>6</td>\n",
              "      <td>33</td>\n",
              "      <td>-30</td>\n",
              "      <td>Province</td>\n",
              "      <td>40479023</td>\n",
              "      <td>846.78</td>\n",
              "      <td>112.732941</td>\n",
              "      <td>-7.723346</td>\n",
              "      <td>NaN</td>\n",
              "      <td>NaN</td>\n",
              "      <td>NaN</td>\n",
              "      <td>NaN</td>\n",
              "    </tr>\n",
              "    <tr>\n",
              "      <th>2</th>\n",
              "      <td>1/10/2020</td>\n",
              "      <td>Jawa Timur</td>\n",
              "      <td>9</td>\n",
              "      <td>7</td>\n",
              "      <td>47</td>\n",
              "      <td>-45</td>\n",
              "      <td>Province</td>\n",
              "      <td>40479023</td>\n",
              "      <td>846.78</td>\n",
              "      <td>112.732941</td>\n",
              "      <td>-7.723346</td>\n",
              "      <td>NaN</td>\n",
              "      <td>NaN</td>\n",
              "      <td>NaN</td>\n",
              "      <td>NaN</td>\n",
              "    </tr>\n",
              "    <tr>\n",
              "      <th>3</th>\n",
              "      <td>1/11/2020</td>\n",
              "      <td>Jawa Timur</td>\n",
              "      <td>9</td>\n",
              "      <td>10</td>\n",
              "      <td>55</td>\n",
              "      <td>-56</td>\n",
              "      <td>Province</td>\n",
              "      <td>40479023</td>\n",
              "      <td>846.78</td>\n",
              "      <td>112.732941</td>\n",
              "      <td>-7.723346</td>\n",
              "      <td>NaN</td>\n",
              "      <td>NaN</td>\n",
              "      <td>NaN</td>\n",
              "      <td>NaN</td>\n",
              "    </tr>\n",
              "    <tr>\n",
              "      <th>4</th>\n",
              "      <td>1/12/2020</td>\n",
              "      <td>Jawa Timur</td>\n",
              "      <td>9</td>\n",
              "      <td>13</td>\n",
              "      <td>56</td>\n",
              "      <td>-60</td>\n",
              "      <td>Province</td>\n",
              "      <td>40479023</td>\n",
              "      <td>846.78</td>\n",
              "      <td>112.732941</td>\n",
              "      <td>-7.723346</td>\n",
              "      <td>NaN</td>\n",
              "      <td>NaN</td>\n",
              "      <td>NaN</td>\n",
              "      <td>NaN</td>\n",
              "    </tr>\n",
              "  </tbody>\n",
              "</table>\n",
              "</div>"
            ],
            "text/plain": [
              "        Date    Location  Total Cases  Total Deaths  ...  Name  Item Kind  Hidden\n",
              "0   1/8/2020  Jawa Timur            9             5  ...   NaN   NaN  NaN     NaN\n",
              "1   1/9/2020  Jawa Timur            9             6  ...   NaN   NaN  NaN     NaN\n",
              "2  1/10/2020  Jawa Timur            9             7  ...   NaN   NaN  NaN     NaN\n",
              "3  1/11/2020  Jawa Timur            9            10  ...   NaN   NaN  NaN     NaN\n",
              "4  1/12/2020  Jawa Timur            9            13  ...   NaN   NaN  NaN     NaN\n",
              "\n",
              "[5 rows x 15 columns]"
            ]
          },
          "metadata": {
            "tags": []
          },
          "execution_count": 45
        }
      ]
    },
    {
      "cell_type": "code",
      "metadata": {
        "colab": {
          "base_uri": "https://localhost:8080/",
          "height": 370
        },
        "id": "feXN7W-hn_RG",
        "outputId": "8a21bd37-82fe-4898-a74d-35677d87e420"
      },
      "source": [
        "# menjadikan data array dan plot\n",
        "dates = df['Date'].values\n",
        "death  = df['Total Deaths'].values.astype('float32')\n",
        "\n",
        " \n",
        "plt.figure(figsize=(20,5))\n",
        "plt.plot(dates, death)\n",
        "plt.title('Jumlah Kematian',\n",
        "          fontsize=20);\n",
        "plt.ylabel('Total Deaths')\n",
        "plt.xlabel('Datetime')"
      ],
      "execution_count": 46,
      "outputs": [
        {
          "output_type": "execute_result",
          "data": {
            "text/plain": [
              "Text(0.5, 0, 'Datetime')"
            ]
          },
          "metadata": {
            "tags": []
          },
          "execution_count": 46
        },
        {
          "output_type": "display_data",
          "data": {
            "image/png": "[encoded data removed]",
            "text/plain": [
              "<Figure size 1440x360 with 1 Axes>"
            ]
          },
          "metadata": {
            "tags": [],
            "needs_background": "light"
          }
        }
      ]
    },
    {
      "cell_type": "code",
      "metadata": {
        "id": "XtHw7tvslIKM"
      },
      "source": [
        "# membagi data  Validation set sebesar 20% dari total dataset.\n",
        "x_train, x_valid, y_train, y_valid = train_test_split(death, dates, train_size=0.8, test_size = 0.2, shuffle = False )\n"
      ],
      "execution_count": 47,
      "outputs": []
    },
    {
      "cell_type": "code",
      "metadata": {
        "id": "u6ZLT3SKlxsf",
        "outputId": "3a4abe39-fefc-4006-8594-50dae48b1852",
        "colab": {
          "base_uri": "https://localhost:8080/"
        }
      },
      "source": [
        "print('Total Data Train : ',len(x_train))\n",
        "print('Total Data Validation : ',len(x_valid))"
      ],
      "execution_count": 48,
      "outputs": [
        {
          "output_type": "stream",
          "text": [
            "Total Data Train :  13026\n",
            "Total Data Validation :  3257\n"
          ],
          "name": "stdout"
        }
      ]
    },
    {
      "cell_type": "code",
      "metadata": {
        "id": "SDhBXzU4qJD1"
      },
      "source": [
        "# merubah data untuk diterima di model\n",
        "def windowed_dataset(series, window_size, batch_size, shuffle_buffer):\n",
        "    series = tf.expand_dims(series, axis=-1)\n",
        "    ds = tf.data.Dataset.from_tensor_slices(series)\n",
        "    ds = ds.window(window_size + 1, shift=1, drop_remainder=True)\n",
        "    ds = ds.flat_map(lambda w: w.batch(window_size + 1))\n",
        "    ds = ds.shuffle(shuffle_buffer)\n",
        "    ds = ds.map(lambda w: (w[:-1], w[-1:]))\n",
        "    return ds.batch(batch_size).prefetch(1)"
      ],
      "execution_count": 49,
      "outputs": []
    },
    {
      "cell_type": "code",
      "metadata": {
        "id": "2QGDjQ-_qRCp"
      },
      "source": [
        "# Pemodelan Sequential\n",
        "train_set = windowed_dataset(x_train, window_size=64, batch_size=200, shuffle_buffer=1000)\n",
        "val_set = windowed_dataset(x_valid, window_size=64, batch_size=200, shuffle_buffer=1000)\n",
        "model = tf.keras.models.Sequential([\n",
        "  tf.keras.layers.LSTM(60, return_sequences=True),\n",
        "  tf.keras.layers.LSTM(60),\n",
        "  tf.keras.layers.Dense(30, activation=\"relu\"),\n",
        "  tf.keras.layers.Dense(10, activation=\"relu\"),\n",
        "  tf.keras.layers.Dense(1),\n",
        "])"
      ],
      "execution_count": 50,
      "outputs": []
    },
    {
      "cell_type": "code",
      "metadata": {
        "id": "kStKsvwEo_zP",
        "outputId": "102156eb-fcfa-4981-f91d-684cd1dc79ba",
        "colab": {
          "base_uri": "https://localhost:8080/"
        }
      },
      "source": [
        "# Menghitung nilai 10% MAE\n",
        "Mae = (df['Total Deaths'].max() - df['Total Deaths'].min()) * 10/100\n",
        "print(Mae)"
      ],
      "execution_count": 51,
      "outputs": [
        {
          "output_type": "stream",
          "text": [
            "6463.1\n"
          ],
          "name": "stdout"
        }
      ]
    },
    {
      "cell_type": "code",
      "metadata": {
        "id": "MPYx0Rsrqpu6"
      },
      "source": [
        "# membuat callback dan penggunaan 10% dari skala data\n",
        "class myCallback(tf.keras.callbacks.Callback):\n",
        "  def on_epoch_end(self, epoch, logs={}):\n",
        "    if(logs.get('mae')<6400 and logs.get('val_mae')<2750):\n",
        "      print(\"\\nMAE dari model < 10% skala data\")\n",
        "      self.model.stop_training = True\n",
        "callbacks = myCallback()\n"
      ],
      "execution_count": 52,
      "outputs": []
    },
    {
      "cell_type": "code",
      "metadata": {
        "colab": {
          "base_uri": "https://localhost:8080/"
        },
        "id": "m4KHS19Eqc4M",
        "outputId": "0cf74b51-5e20-428b-a91b-d7b18118b029"
      },
      "source": [
        "# menggunakan Learning Rate pada Optimize\n",
        "optimizer = tf.keras.optimizers.SGD(lr=1.0000e-04, momentum=0.9)\n",
        "model.compile(loss=tf.keras.losses.Huber(),\n",
        "              optimizer=optimizer,\n",
        "              metrics=[\"mae\"])\n",
        "history = model.fit(train_set, epochs=100, validation_data = val_set, callbacks=[callbacks])"
      ],
      "execution_count": 55,
      "outputs": [
        {
          "output_type": "stream",
          "text": [
            "/usr/local/lib/python3.7/dist-packages/tensorflow/python/keras/optimizer_v2/optimizer_v2.py:375: UserWarning: The `lr` argument is deprecated, use `learning_rate` instead.\n",
            "  \"The `lr` argument is deprecated, use `learning_rate` instead.\")\n"
          ],
          "name": "stderr"
        },
        {
          "output_type": "stream",
          "text": [
            "Epoch 1/100\n",
            "65/65 [==============================] - 21s 270ms/step - loss: 825.7410 - mae: 826.2295 - val_loss: 2948.7285 - val_mae: 2949.2283\n",
            "Epoch 2/100\n",
            "65/65 [==============================] - 16s 242ms/step - loss: 825.0372 - mae: 825.5262 - val_loss: 2947.7600 - val_mae: 2948.2603\n",
            "Epoch 3/100\n",
            "65/65 [==============================] - 16s 239ms/step - loss: 823.9401 - mae: 824.4296 - val_loss: 2946.0288 - val_mae: 2946.5286\n",
            "Epoch 4/100\n",
            "65/65 [==============================] - 16s 244ms/step - loss: 822.1023 - mae: 822.5905 - val_loss: 2942.6887 - val_mae: 2943.1885\n",
            "Epoch 5/100\n",
            "65/65 [==============================] - 16s 247ms/step - loss: 818.9537 - mae: 819.4481 - val_loss: 2935.9888 - val_mae: 2936.4885\n",
            "Epoch 6/100\n",
            "65/65 [==============================] - 16s 239ms/step - loss: 814.0885 - mae: 814.5869 - val_loss: 2922.5093 - val_mae: 2923.0093\n",
            "Epoch 7/100\n",
            "65/65 [==============================] - 16s 246ms/step - loss: 808.4415 - mae: 808.9400 - val_loss: 2899.6780 - val_mae: 2900.1775\n",
            "Epoch 8/100\n",
            "65/65 [==============================] - 16s 249ms/step - loss: 803.4202 - mae: 803.9187 - val_loss: 2867.1985 - val_mae: 2867.6987\n",
            "Epoch 9/100\n",
            "65/65 [==============================] - 16s 245ms/step - loss: 793.2531 - mae: 793.7485 - val_loss: 2817.8213 - val_mae: 2818.3210\n",
            "Epoch 10/100\n",
            "65/65 [==============================] - 16s 242ms/step - loss: 795.5490 - mae: 796.0467 - val_loss: 2798.8894 - val_mae: 2799.3887\n",
            "Epoch 11/100\n",
            "65/65 [==============================] - 16s 251ms/step - loss: 811.6465 - mae: 812.1411 - val_loss: 2804.5559 - val_mae: 2805.0557\n",
            "Epoch 12/100\n",
            "65/65 [==============================] - 16s 241ms/step - loss: 772.0377 - mae: 772.5333 - val_loss: 2753.7244 - val_mae: 2754.2241\n",
            "Epoch 13/100\n",
            "65/65 [==============================] - 16s 245ms/step - loss: 766.3851 - mae: 766.8799 - val_loss: 2730.1870 - val_mae: 2730.6868\n",
            "\n",
            "MAE dari model < 10% skala data\n"
          ],
          "name": "stdout"
        }
      ]
    },
    {
      "cell_type": "code",
      "metadata": {
        "id": "bilYjcYNrGgT",
        "outputId": "ef03a679-3f9b-40b3-df6d-2e2d5d557d59",
        "colab": {
          "base_uri": "https://localhost:8080/",
          "height": 573
        }
      },
      "source": [
        "# Plot Accuracy\n",
        "plt.plot(history.history['mae'])\n",
        "plt.plot(history.history['val_mae'])\n",
        "plt.title('Akurasi Model')\n",
        "plt.ylabel('Mae')\n",
        "plt.xlabel('epoch')\n",
        "plt.legend(['Train', 'Val'], loc='upper left')\n",
        "plt.show()\n",
        "\n",
        "# Plot Loss\n",
        "plt.plot(history.history['loss'])\n",
        "plt.plot(history.history['val_loss'])\n",
        "plt.title('Loss Model')\n",
        "plt.ylabel('loss')\n",
        "plt.xlabel('epoch')\n",
        "plt.legend(['Train', 'Val'], loc='upper left')\n",
        "plt.show()"
      ],
      "execution_count": 56,
      "outputs": [
        {
          "output_type": "display_data",
          "data": {
            "image/png": "[encoded data removed]",
            "text/plain": [
              "<Figure size 432x288 with 1 Axes>"
            ]
          },
          "metadata": {
            "tags": [],
            "needs_background": "light"
          }
        },
        {
          "output_type": "display_data",
          "data": {
            "image/png": "[encoded data removed]",
            "text/plain": [
              "<Figure size 432x288 with 1 Axes>"
            ]
          },
          "metadata": {
            "tags": [],
            "needs_background": "light"
          }
        }
      ]
    }
  ]
}